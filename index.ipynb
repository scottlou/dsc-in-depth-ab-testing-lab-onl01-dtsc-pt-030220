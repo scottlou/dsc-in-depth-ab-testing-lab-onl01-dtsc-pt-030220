{
 "cells": [
  {
   "cell_type": "markdown",
   "metadata": {},
   "source": [
    "# In Depth A/B Testing - Lab\n",
    "\n",
    "## Introduction\n",
    "\n",
    "In this lab, you'll explore a survey from Kaggle regarding budding data scientists. With this, you'll form some initial hypotheses, and test them using the tools you've acquired to date. \n",
    "\n",
    "## Objectives\n",
    "\n",
    "You will be able to:\n",
    "* Conduct t-tests and an ANOVA on a real-world dataset and interpret the results"
   ]
  },
  {
   "cell_type": "markdown",
   "metadata": {},
   "source": [
    "## Load the Dataset and Perform a Brief Exploration\n",
    "\n",
    "The data is stored in a file called **multipleChoiceResponses_cleaned.csv**. Feel free to check out the original dataset referenced at the bottom of this lab, although this cleaned version will undoubtedly be easier to work with. Additionally, meta-data regarding the questions is stored in a file name **schema.csv**. Load in the data itself as a Pandas DataFrame, and take a moment to briefly get acquainted with it.\n",
    "\n",
    "> Note: If you can't get the file to load properly, try changing the encoding format as in `encoding='latin1'`"
   ]
  },
  {
   "cell_type": "code",
   "execution_count": 2,
   "metadata": {},
   "outputs": [],
   "source": [
    "import pandas as pd\n",
    "import numpy as np\n",
    "import matplotlib.pyplot as plt\n",
    "import seaborn as sns\n",
    "sns.set_style('darkgrid')\n",
    "%matplotlib inline\n",
    "\n",
    "import warnings\n",
    "warnings.filterwarnings(\"ignore\")"
   ]
  },
  {
   "cell_type": "code",
   "execution_count": 3,
   "metadata": {
    "scrolled": true
   },
   "outputs": [
    {
     "data": {
      "text/html": [
       "<div>\n",
       "<style scoped>\n",
       "    .dataframe tbody tr th:only-of-type {\n",
       "        vertical-align: middle;\n",
       "    }\n",
       "\n",
       "    .dataframe tbody tr th {\n",
       "        vertical-align: top;\n",
       "    }\n",
       "\n",
       "    .dataframe thead th {\n",
       "        text-align: right;\n",
       "    }\n",
       "</style>\n",
       "<table border=\"1\" class=\"dataframe\">\n",
       "  <thead>\n",
       "    <tr style=\"text-align: right;\">\n",
       "      <th></th>\n",
       "      <th>GenderSelect</th>\n",
       "      <th>Country</th>\n",
       "      <th>Age</th>\n",
       "      <th>EmploymentStatus</th>\n",
       "      <th>StudentStatus</th>\n",
       "      <th>LearningDataScience</th>\n",
       "      <th>CodeWriter</th>\n",
       "      <th>CareerSwitcher</th>\n",
       "      <th>CurrentJobTitleSelect</th>\n",
       "      <th>TitleFit</th>\n",
       "      <th>...</th>\n",
       "      <th>JobFactorTitle</th>\n",
       "      <th>JobFactorCompanyFunding</th>\n",
       "      <th>JobFactorImpact</th>\n",
       "      <th>JobFactorRemote</th>\n",
       "      <th>JobFactorIndustry</th>\n",
       "      <th>JobFactorLeaderReputation</th>\n",
       "      <th>JobFactorDiversity</th>\n",
       "      <th>JobFactorPublishingOpportunity</th>\n",
       "      <th>exchangeRate</th>\n",
       "      <th>AdjustedCompensation</th>\n",
       "    </tr>\n",
       "  </thead>\n",
       "  <tbody>\n",
       "    <tr>\n",
       "      <td>0</td>\n",
       "      <td>Non-binary, genderqueer, or gender non-conforming</td>\n",
       "      <td>NaN</td>\n",
       "      <td>NaN</td>\n",
       "      <td>Employed full-time</td>\n",
       "      <td>NaN</td>\n",
       "      <td>NaN</td>\n",
       "      <td>Yes</td>\n",
       "      <td>NaN</td>\n",
       "      <td>DBA/Database Engineer</td>\n",
       "      <td>Fine</td>\n",
       "      <td>...</td>\n",
       "      <td>NaN</td>\n",
       "      <td>NaN</td>\n",
       "      <td>NaN</td>\n",
       "      <td>NaN</td>\n",
       "      <td>NaN</td>\n",
       "      <td>NaN</td>\n",
       "      <td>NaN</td>\n",
       "      <td>NaN</td>\n",
       "      <td>NaN</td>\n",
       "      <td>NaN</td>\n",
       "    </tr>\n",
       "    <tr>\n",
       "      <td>1</td>\n",
       "      <td>Female</td>\n",
       "      <td>United States</td>\n",
       "      <td>30.0</td>\n",
       "      <td>Not employed, but looking for work</td>\n",
       "      <td>NaN</td>\n",
       "      <td>NaN</td>\n",
       "      <td>NaN</td>\n",
       "      <td>NaN</td>\n",
       "      <td>NaN</td>\n",
       "      <td>NaN</td>\n",
       "      <td>...</td>\n",
       "      <td>NaN</td>\n",
       "      <td>NaN</td>\n",
       "      <td>NaN</td>\n",
       "      <td>NaN</td>\n",
       "      <td>NaN</td>\n",
       "      <td>Somewhat important</td>\n",
       "      <td>NaN</td>\n",
       "      <td>NaN</td>\n",
       "      <td>NaN</td>\n",
       "      <td>NaN</td>\n",
       "    </tr>\n",
       "    <tr>\n",
       "      <td>2</td>\n",
       "      <td>Male</td>\n",
       "      <td>Canada</td>\n",
       "      <td>28.0</td>\n",
       "      <td>Not employed, but looking for work</td>\n",
       "      <td>NaN</td>\n",
       "      <td>NaN</td>\n",
       "      <td>NaN</td>\n",
       "      <td>NaN</td>\n",
       "      <td>NaN</td>\n",
       "      <td>NaN</td>\n",
       "      <td>...</td>\n",
       "      <td>Very Important</td>\n",
       "      <td>Very Important</td>\n",
       "      <td>Very Important</td>\n",
       "      <td>Very Important</td>\n",
       "      <td>Very Important</td>\n",
       "      <td>Very Important</td>\n",
       "      <td>Very Important</td>\n",
       "      <td>Very Important</td>\n",
       "      <td>NaN</td>\n",
       "      <td>NaN</td>\n",
       "    </tr>\n",
       "    <tr>\n",
       "      <td>3</td>\n",
       "      <td>Male</td>\n",
       "      <td>United States</td>\n",
       "      <td>56.0</td>\n",
       "      <td>Independent contractor, freelancer, or self-em...</td>\n",
       "      <td>NaN</td>\n",
       "      <td>NaN</td>\n",
       "      <td>Yes</td>\n",
       "      <td>NaN</td>\n",
       "      <td>Operations Research Practitioner</td>\n",
       "      <td>Poorly</td>\n",
       "      <td>...</td>\n",
       "      <td>NaN</td>\n",
       "      <td>NaN</td>\n",
       "      <td>NaN</td>\n",
       "      <td>NaN</td>\n",
       "      <td>NaN</td>\n",
       "      <td>NaN</td>\n",
       "      <td>NaN</td>\n",
       "      <td>NaN</td>\n",
       "      <td>1.0</td>\n",
       "      <td>250000.0</td>\n",
       "    </tr>\n",
       "    <tr>\n",
       "      <td>4</td>\n",
       "      <td>Male</td>\n",
       "      <td>Taiwan</td>\n",
       "      <td>38.0</td>\n",
       "      <td>Employed full-time</td>\n",
       "      <td>NaN</td>\n",
       "      <td>NaN</td>\n",
       "      <td>Yes</td>\n",
       "      <td>NaN</td>\n",
       "      <td>Computer Scientist</td>\n",
       "      <td>Fine</td>\n",
       "      <td>...</td>\n",
       "      <td>NaN</td>\n",
       "      <td>NaN</td>\n",
       "      <td>NaN</td>\n",
       "      <td>NaN</td>\n",
       "      <td>NaN</td>\n",
       "      <td>NaN</td>\n",
       "      <td>NaN</td>\n",
       "      <td>NaN</td>\n",
       "      <td>NaN</td>\n",
       "      <td>NaN</td>\n",
       "    </tr>\n",
       "  </tbody>\n",
       "</table>\n",
       "<p>5 rows × 230 columns</p>\n",
       "</div>"
      ],
      "text/plain": [
       "                                        GenderSelect        Country   Age  \\\n",
       "0  Non-binary, genderqueer, or gender non-conforming            NaN   NaN   \n",
       "1                                             Female  United States  30.0   \n",
       "2                                               Male         Canada  28.0   \n",
       "3                                               Male  United States  56.0   \n",
       "4                                               Male         Taiwan  38.0   \n",
       "\n",
       "                                    EmploymentStatus StudentStatus  \\\n",
       "0                                 Employed full-time           NaN   \n",
       "1                 Not employed, but looking for work           NaN   \n",
       "2                 Not employed, but looking for work           NaN   \n",
       "3  Independent contractor, freelancer, or self-em...           NaN   \n",
       "4                                 Employed full-time           NaN   \n",
       "\n",
       "  LearningDataScience CodeWriter CareerSwitcher  \\\n",
       "0                 NaN        Yes            NaN   \n",
       "1                 NaN        NaN            NaN   \n",
       "2                 NaN        NaN            NaN   \n",
       "3                 NaN        Yes            NaN   \n",
       "4                 NaN        Yes            NaN   \n",
       "\n",
       "              CurrentJobTitleSelect TitleFit  ...  JobFactorTitle  \\\n",
       "0             DBA/Database Engineer     Fine  ...             NaN   \n",
       "1                               NaN      NaN  ...             NaN   \n",
       "2                               NaN      NaN  ...  Very Important   \n",
       "3  Operations Research Practitioner   Poorly  ...             NaN   \n",
       "4                Computer Scientist     Fine  ...             NaN   \n",
       "\n",
       "  JobFactorCompanyFunding JobFactorImpact JobFactorRemote JobFactorIndustry  \\\n",
       "0                     NaN             NaN             NaN               NaN   \n",
       "1                     NaN             NaN             NaN               NaN   \n",
       "2          Very Important  Very Important  Very Important    Very Important   \n",
       "3                     NaN             NaN             NaN               NaN   \n",
       "4                     NaN             NaN             NaN               NaN   \n",
       "\n",
       "  JobFactorLeaderReputation JobFactorDiversity JobFactorPublishingOpportunity  \\\n",
       "0                       NaN                NaN                            NaN   \n",
       "1        Somewhat important                NaN                            NaN   \n",
       "2            Very Important     Very Important                 Very Important   \n",
       "3                       NaN                NaN                            NaN   \n",
       "4                       NaN                NaN                            NaN   \n",
       "\n",
       "  exchangeRate AdjustedCompensation  \n",
       "0          NaN                  NaN  \n",
       "1          NaN                  NaN  \n",
       "2          NaN                  NaN  \n",
       "3          1.0             250000.0  \n",
       "4          NaN                  NaN  \n",
       "\n",
       "[5 rows x 230 columns]"
      ]
     },
     "execution_count": 3,
     "metadata": {},
     "output_type": "execute_result"
    }
   ],
   "source": [
    "#Your code here\n",
    "df = pd.read_csv('multipleChoiceResponses_cleaned.csv', encoding='latin1')\n",
    "df.head()"
   ]
  },
  {
   "cell_type": "markdown",
   "metadata": {},
   "source": [
    "## Wages and Education\n",
    "\n",
    "You've been asked to determine whether education is impactful to salary. Develop a hypothesis test to compare the salaries of those with Master's degrees to those with Bachelor's degrees. Are the two statistically different according to your results?\n",
    "\n",
    "> Note: The relevant features are stored in the 'FormalEducation' and 'AdjustedCompensation' features.\n",
    "\n",
    "You may import the functions stored in the `flatiron_stats.py` file to help perform your hypothesis tests. It contains the stats functions that you previously coded: `welch_t(a,b)`, `welch_df(a, b)`, and `p_value(a, b, two_sided=False)`. \n",
    "\n",
    "Note that `scipy.stats.ttest_ind(a, b, equal_var=False)` performs a two-sided Welch's t-test and that p-values derived from two-sided tests are two times the p-values derived from one-sided tests. See the [documentation](https://docs.scipy.org/doc/scipy/reference/generated/scipy.stats.ttest_ind.html) for more information.    "
   ]
  },
  {
   "cell_type": "code",
   "execution_count": 4,
   "metadata": {},
   "outputs": [],
   "source": [
    "import flatiron_stats as fs\n",
    "import scipy.stats as stats"
   ]
  },
  {
   "cell_type": "code",
   "execution_count": null,
   "metadata": {},
   "outputs": [],
   "source": [
    "## Make a smaller dataframe with relevant information"
   ]
  },
  {
   "cell_type": "code",
   "execution_count": 5,
   "metadata": {},
   "outputs": [],
   "source": [
    "# Locate Relevant Data in Dataframe\n",
    "education = 'FormalEducation' ## relevant feature column \n",
    "masters = \"Master's degree\" ## relevant feature (categorical var)\n",
    "bachelors = \"Bachelor's degree\" ## relevant feature (categorical var)\n",
    "adjcomp = 'AdjustedCompensation'## relevant feature column "
   ]
  },
  {
   "cell_type": "code",
   "execution_count": 6,
   "metadata": {},
   "outputs": [
    {
     "data": {
      "text/plain": [
       "0         True\n",
       "1         True\n",
       "2         True\n",
       "3         True\n",
       "4         True\n",
       "         ...  \n",
       "26389     True\n",
       "26390     True\n",
       "26391    False\n",
       "26392     True\n",
       "26393     True\n",
       "Name: FormalEducation, Length: 26394, dtype: bool"
      ]
     },
     "execution_count": 6,
     "metadata": {},
     "output_type": "execute_result"
    }
   ],
   "source": [
    "(~df[education].isnull()) ## allows subsetting of data with values "
   ]
  },
  {
   "cell_type": "code",
   "execution_count": 7,
   "metadata": {
    "scrolled": true
   },
   "outputs": [
    {
     "data": {
      "text/plain": [
       "0        False\n",
       "1        False\n",
       "2        False\n",
       "3         True\n",
       "4        False\n",
       "         ...  \n",
       "26389    False\n",
       "26390    False\n",
       "26391    False\n",
       "26392    False\n",
       "26393    False\n",
       "Name: AdjustedCompensation, Length: 26394, dtype: bool"
      ]
     },
     "execution_count": 7,
     "metadata": {},
     "output_type": "execute_result"
    }
   ],
   "source": [
    "(~df[adjcomp].isnull()) ## allows subsetting of data with values "
   ]
  },
  {
   "cell_type": "code",
   "execution_count": 14,
   "metadata": {
    "scrolled": true
   },
   "outputs": [
    {
     "data": {
      "text/html": [
       "<div>\n",
       "<style scoped>\n",
       "    .dataframe tbody tr th:only-of-type {\n",
       "        vertical-align: middle;\n",
       "    }\n",
       "\n",
       "    .dataframe tbody tr th {\n",
       "        vertical-align: top;\n",
       "    }\n",
       "\n",
       "    .dataframe thead th {\n",
       "        text-align: right;\n",
       "    }\n",
       "</style>\n",
       "<table border=\"1\" class=\"dataframe\">\n",
       "  <thead>\n",
       "    <tr style=\"text-align: right;\">\n",
       "      <th></th>\n",
       "      <th>FormalEducation</th>\n",
       "      <th>AdjustedCompensation</th>\n",
       "    </tr>\n",
       "  </thead>\n",
       "  <tbody>\n",
       "    <tr>\n",
       "      <td>3</td>\n",
       "      <td>Master's degree</td>\n",
       "      <td>250000.000</td>\n",
       "    </tr>\n",
       "    <tr>\n",
       "      <td>8</td>\n",
       "      <td>Bachelor's degree</td>\n",
       "      <td>64184.800</td>\n",
       "    </tr>\n",
       "    <tr>\n",
       "      <td>9</td>\n",
       "      <td>Bachelor's degree</td>\n",
       "      <td>20882.400</td>\n",
       "    </tr>\n",
       "    <tr>\n",
       "      <td>11</td>\n",
       "      <td>Bachelor's degree</td>\n",
       "      <td>1483.900</td>\n",
       "    </tr>\n",
       "    <tr>\n",
       "      <td>14</td>\n",
       "      <td>Master's degree</td>\n",
       "      <td>36634.400</td>\n",
       "    </tr>\n",
       "    <tr>\n",
       "      <td>...</td>\n",
       "      <td>...</td>\n",
       "      <td>...</td>\n",
       "    </tr>\n",
       "    <tr>\n",
       "      <td>26185</td>\n",
       "      <td>Bachelor's degree</td>\n",
       "      <td>50000.000</td>\n",
       "    </tr>\n",
       "    <tr>\n",
       "      <td>26195</td>\n",
       "      <td>Bachelor's degree</td>\n",
       "      <td>100449.384</td>\n",
       "    </tr>\n",
       "    <tr>\n",
       "      <td>26203</td>\n",
       "      <td>Doctoral degree</td>\n",
       "      <td>200000.000</td>\n",
       "    </tr>\n",
       "    <tr>\n",
       "      <td>26255</td>\n",
       "      <td>Master's degree</td>\n",
       "      <td>89686.950</td>\n",
       "    </tr>\n",
       "    <tr>\n",
       "      <td>26378</td>\n",
       "      <td>Master's degree</td>\n",
       "      <td>10000.000</td>\n",
       "    </tr>\n",
       "  </tbody>\n",
       "</table>\n",
       "<p>4342 rows × 2 columns</p>\n",
       "</div>"
      ],
      "text/plain": [
       "         FormalEducation  AdjustedCompensation\n",
       "3        Master's degree            250000.000\n",
       "8      Bachelor's degree             64184.800\n",
       "9      Bachelor's degree             20882.400\n",
       "11     Bachelor's degree              1483.900\n",
       "14       Master's degree             36634.400\n",
       "...                  ...                   ...\n",
       "26185  Bachelor's degree             50000.000\n",
       "26195  Bachelor's degree            100449.384\n",
       "26203    Doctoral degree            200000.000\n",
       "26255    Master's degree             89686.950\n",
       "26378    Master's degree             10000.000\n",
       "\n",
       "[4342 rows x 2 columns]"
      ]
     },
     "execution_count": 14,
     "metadata": {},
     "output_type": "execute_result"
    }
   ],
   "source": [
    "wage_edu_df = df[(~df[adjcomp].isnull()) & ~df[education].isnull()] # for entries with values\n",
    "wage_edu_df = wage_edu_df.loc[:, [education, adjcomp]]\n",
    "wage_edu_df"
   ]
  },
  {
   "cell_type": "code",
   "execution_count": 53,
   "metadata": {},
   "outputs": [
    {
     "data": {
      "text/plain": [
       "Master's degree                                                      1990\n",
       "Bachelor's degree                                                    1107\n",
       "Doctoral degree                                                       967\n",
       "Professional degree                                                   130\n",
       "Some college/university study without earning a bachelor's degree     111\n",
       "I did not complete any formal education past high school               30\n",
       "I prefer not to answer                                                  7\n",
       "Name: FormalEducation, dtype: int64"
      ]
     },
     "execution_count": 53,
     "metadata": {},
     "output_type": "execute_result"
    }
   ],
   "source": [
    "wage_edu_df[education].value_counts()"
   ]
  },
  {
   "cell_type": "code",
   "execution_count": 30,
   "metadata": {
    "scrolled": true
   },
   "outputs": [
    {
     "data": {
      "text/html": [
       "<div>\n",
       "<style scoped>\n",
       "    .dataframe tbody tr th:only-of-type {\n",
       "        vertical-align: middle;\n",
       "    }\n",
       "\n",
       "    .dataframe tbody tr th {\n",
       "        vertical-align: top;\n",
       "    }\n",
       "\n",
       "    .dataframe thead th {\n",
       "        text-align: right;\n",
       "    }\n",
       "</style>\n",
       "<table border=\"1\" class=\"dataframe\">\n",
       "  <thead>\n",
       "    <tr style=\"text-align: right;\">\n",
       "      <th></th>\n",
       "      <th>FormalEducation</th>\n",
       "      <th>AdjustedCompensation</th>\n",
       "    </tr>\n",
       "  </thead>\n",
       "  <tbody>\n",
       "    <tr>\n",
       "      <td>3</td>\n",
       "      <td>Master's degree</td>\n",
       "      <td>250000.000</td>\n",
       "    </tr>\n",
       "    <tr>\n",
       "      <td>14</td>\n",
       "      <td>Master's degree</td>\n",
       "      <td>36634.400</td>\n",
       "    </tr>\n",
       "    <tr>\n",
       "      <td>27</td>\n",
       "      <td>Master's degree</td>\n",
       "      <td>53352.000</td>\n",
       "    </tr>\n",
       "    <tr>\n",
       "      <td>31</td>\n",
       "      <td>Master's degree</td>\n",
       "      <td>35419.104</td>\n",
       "    </tr>\n",
       "    <tr>\n",
       "      <td>37</td>\n",
       "      <td>Master's degree</td>\n",
       "      <td>80000.000</td>\n",
       "    </tr>\n",
       "    <tr>\n",
       "      <td>...</td>\n",
       "      <td>...</td>\n",
       "      <td>...</td>\n",
       "    </tr>\n",
       "    <tr>\n",
       "      <td>26148</td>\n",
       "      <td>Master's degree</td>\n",
       "      <td>54670.000</td>\n",
       "    </tr>\n",
       "    <tr>\n",
       "      <td>26159</td>\n",
       "      <td>Master's degree</td>\n",
       "      <td>1.000</td>\n",
       "    </tr>\n",
       "    <tr>\n",
       "      <td>26180</td>\n",
       "      <td>Master's degree</td>\n",
       "      <td>65770.430</td>\n",
       "    </tr>\n",
       "    <tr>\n",
       "      <td>26255</td>\n",
       "      <td>Master's degree</td>\n",
       "      <td>89686.950</td>\n",
       "    </tr>\n",
       "    <tr>\n",
       "      <td>26378</td>\n",
       "      <td>Master's degree</td>\n",
       "      <td>10000.000</td>\n",
       "    </tr>\n",
       "  </tbody>\n",
       "</table>\n",
       "<p>1990 rows × 2 columns</p>\n",
       "</div>"
      ],
      "text/plain": [
       "       FormalEducation  AdjustedCompensation\n",
       "3      Master's degree            250000.000\n",
       "14     Master's degree             36634.400\n",
       "27     Master's degree             53352.000\n",
       "31     Master's degree             35419.104\n",
       "37     Master's degree             80000.000\n",
       "...                ...                   ...\n",
       "26148  Master's degree             54670.000\n",
       "26159  Master's degree                 1.000\n",
       "26180  Master's degree             65770.430\n",
       "26255  Master's degree             89686.950\n",
       "26378  Master's degree             10000.000\n",
       "\n",
       "[1990 rows x 2 columns]"
      ]
     },
     "metadata": {},
     "output_type": "display_data"
    },
    {
     "data": {
      "text/html": [
       "<div>\n",
       "<style scoped>\n",
       "    .dataframe tbody tr th:only-of-type {\n",
       "        vertical-align: middle;\n",
       "    }\n",
       "\n",
       "    .dataframe tbody tr th {\n",
       "        vertical-align: top;\n",
       "    }\n",
       "\n",
       "    .dataframe thead th {\n",
       "        text-align: right;\n",
       "    }\n",
       "</style>\n",
       "<table border=\"1\" class=\"dataframe\">\n",
       "  <thead>\n",
       "    <tr style=\"text-align: right;\">\n",
       "      <th></th>\n",
       "      <th>FormalEducation</th>\n",
       "      <th>AdjustedCompensation</th>\n",
       "    </tr>\n",
       "  </thead>\n",
       "  <tbody>\n",
       "    <tr>\n",
       "      <td>8</td>\n",
       "      <td>Bachelor's degree</td>\n",
       "      <td>64184.800</td>\n",
       "    </tr>\n",
       "    <tr>\n",
       "      <td>9</td>\n",
       "      <td>Bachelor's degree</td>\n",
       "      <td>20882.400</td>\n",
       "    </tr>\n",
       "    <tr>\n",
       "      <td>11</td>\n",
       "      <td>Bachelor's degree</td>\n",
       "      <td>1483.900</td>\n",
       "    </tr>\n",
       "    <tr>\n",
       "      <td>21</td>\n",
       "      <td>Bachelor's degree</td>\n",
       "      <td>20000.000</td>\n",
       "    </tr>\n",
       "    <tr>\n",
       "      <td>25</td>\n",
       "      <td>Bachelor's degree</td>\n",
       "      <td>10858.848</td>\n",
       "    </tr>\n",
       "    <tr>\n",
       "      <td>...</td>\n",
       "      <td>...</td>\n",
       "      <td>...</td>\n",
       "    </tr>\n",
       "    <tr>\n",
       "      <td>26031</td>\n",
       "      <td>Bachelor's degree</td>\n",
       "      <td>39050.000</td>\n",
       "    </tr>\n",
       "    <tr>\n",
       "      <td>26072</td>\n",
       "      <td>Bachelor's degree</td>\n",
       "      <td>31878.000</td>\n",
       "    </tr>\n",
       "    <tr>\n",
       "      <td>26101</td>\n",
       "      <td>Bachelor's degree</td>\n",
       "      <td>3336.000</td>\n",
       "    </tr>\n",
       "    <tr>\n",
       "      <td>26185</td>\n",
       "      <td>Bachelor's degree</td>\n",
       "      <td>50000.000</td>\n",
       "    </tr>\n",
       "    <tr>\n",
       "      <td>26195</td>\n",
       "      <td>Bachelor's degree</td>\n",
       "      <td>100449.384</td>\n",
       "    </tr>\n",
       "  </tbody>\n",
       "</table>\n",
       "<p>1107 rows × 2 columns</p>\n",
       "</div>"
      ],
      "text/plain": [
       "         FormalEducation  AdjustedCompensation\n",
       "8      Bachelor's degree             64184.800\n",
       "9      Bachelor's degree             20882.400\n",
       "11     Bachelor's degree              1483.900\n",
       "21     Bachelor's degree             20000.000\n",
       "25     Bachelor's degree             10858.848\n",
       "...                  ...                   ...\n",
       "26031  Bachelor's degree             39050.000\n",
       "26072  Bachelor's degree             31878.000\n",
       "26101  Bachelor's degree              3336.000\n",
       "26185  Bachelor's degree             50000.000\n",
       "26195  Bachelor's degree            100449.384\n",
       "\n",
       "[1107 rows x 2 columns]"
      ]
     },
     "metadata": {},
     "output_type": "display_data"
    }
   ],
   "source": [
    "masters_wage_edu_df = wage_edu_df[wage_edu_df[education] == masters]\n",
    "bachelors_wage_edu_df =  wage_edu_df[wage_edu_df[education] == bachelors]\n",
    "display(masters_wage_edu_df)\n",
    "display(bachelors_wage_edu_df)"
   ]
  },
  {
   "cell_type": "code",
   "execution_count": 31,
   "metadata": {
    "scrolled": true
   },
   "outputs": [
    {
     "data": {
      "text/plain": [
       "3        250000.000\n",
       "14        36634.400\n",
       "27        53352.000\n",
       "31        35419.104\n",
       "37        80000.000\n",
       "            ...    \n",
       "26148     54670.000\n",
       "26159         1.000\n",
       "26180     65770.430\n",
       "26255     89686.950\n",
       "26378     10000.000\n",
       "Name: AdjustedCompensation, Length: 1990, dtype: float64"
      ]
     },
     "metadata": {},
     "output_type": "display_data"
    },
    {
     "data": {
      "text/plain": [
       "8         64184.800\n",
       "9         20882.400\n",
       "11         1483.900\n",
       "21        20000.000\n",
       "25        10858.848\n",
       "            ...    \n",
       "26031     39050.000\n",
       "26072     31878.000\n",
       "26101      3336.000\n",
       "26185     50000.000\n",
       "26195    100449.384\n",
       "Name: AdjustedCompensation, Length: 1107, dtype: float64"
      ]
     },
     "metadata": {},
     "output_type": "display_data"
    }
   ],
   "source": [
    "masters_wage_df = wage_edu_df[wage_edu_df[education] == masters][adjcomp]\n",
    "bachelors_wage_df =  wage_edu_df[wage_edu_df[education] == bachelors][adjcomp]\n",
    "display(masters_wage_df)\n",
    "display(bachelors_wage_df)"
   ]
  },
  {
   "cell_type": "code",
   "execution_count": 48,
   "metadata": {
    "scrolled": true
   },
   "outputs": [
    {
     "data": {
      "text/plain": [
       "<matplotlib.axes._subplots.AxesSubplot at 0x1a248e5f28>"
      ]
     },
     "execution_count": 48,
     "metadata": {},
     "output_type": "execute_result"
    },
    {
     "data": {
      "image/png": "[encoded data removed]",
      "text/plain": [
       "<Figure size 720x360 with 1 Axes>"
      ]
     },
     "metadata": {
      "needs_background": "light"
     },
     "output_type": "display_data"
    }
   ],
   "source": [
    "plt.figure(figsize=(10,5))\n",
    "sns.set_context(\"poster\")\n",
    "sns.distplot(masters_wage_df)\n",
    "sns.distplot(bachelors_wage_df)"
   ]
  },
  {
   "cell_type": "code",
   "execution_count": null,
   "metadata": {},
   "outputs": [],
   "source": [
    "## Super hard to read, but below is the info for this plot."
   ]
  },
  {
   "cell_type": "code",
   "execution_count": 62,
   "metadata": {
    "scrolled": false
   },
   "outputs": [
    {
     "name": "stdout",
     "output_type": "stream",
     "text": [
      "Comparison of AdjustedCompensation for Master's degree and Bachelor's degree\n",
      "Median Values: \tMaster's: 53812.17 \tBachelor's: 38399.4\n",
      "Mean Values: \tMaster's: 69139.9 \tBachelor's: 64887.1\n",
      "Sample sizes: \tMaster's: 1990 \tBachelor's: 1107\n",
      "Welch's t-test p-value: 0.33077639451272445\n"
     ]
    }
   ],
   "source": [
    "print('Comparison of {} for {} and {}'.format(adjcomp, masters, bachelors))\n",
    "print(\"Median Values: \\tMaster's: {} \\tBachelor's: {}\".format(round(masters_wage_df.median(),2), round(bachelors_wage_df.median(),2)))\n",
    "print(\"Mean Values: \\tMaster's: {} \\tBachelor's: {}\".format(round(masters_wage_df.mean(),2), round(bachelors_wage_df.mean(),2)))\n",
    "print(\"Sample sizes: \\tMaster's: {} \\tBachelor's: {}\".format(len(masters_wage_df), len(bachelors_wage_df)))\n",
    "print(\"Welch's t-test p-value:\", fs.p_value_welch_ttest(masters_wage_df, bachelors_wage_df))"
   ]
  },
  {
   "cell_type": "code",
   "execution_count": 65,
   "metadata": {
    "scrolled": true
   },
   "outputs": [
    {
     "name": "stdout",
     "output_type": "stream",
     "text": [
      "0.8th percentile:\tmasters: 103000.0\tbachelors: 93233.13\n",
      "0.81th percentile:\tmasters: 107009.0\tbachelors: 95572.83\n",
      "0.82th percentile:\tmasters: 110000.0\tbachelors: 99276.38\n",
      "0.83th percentile:\tmasters: 111503.83\tbachelors: 100000.0\n",
      "0.84th percentile:\tmasters: 115240.4\tbachelors: 103040.0\n",
      "0.85th percentile:\tmasters: 119582.6\tbachelors: 105935.04\n",
      "0.86th percentile:\tmasters: 120000.0\tbachelors: 110000.0\n",
      "0.87th percentile:\tmasters: 124719.88\tbachelors: 112000.0\n",
      "0.88th percentile:\tmasters: 129421.46\tbachelors: 115000.0\n",
      "0.89th percentile:\tmasters: 130000.0\tbachelors: 120000.0\n",
      "0.9th percentile:\tmasters: 135000.0\tbachelors: 120346.5\n",
      "0.91th percentile:\tmasters: 140000.0\tbachelors: 126460.0\n",
      "0.92th percentile:\tmasters: 149640.0\tbachelors: 132615.4\n",
      "0.93th percentile:\tmasters: 150000.0\tbachelors: 140000.0\n",
      "0.94th percentile:\tmasters: 160000.0\tbachelors: 143408.8\n",
      "0.95th percentile:\tmasters: 166778.6\tbachelors: 150000.0\n",
      "0.96th percentile:\tmasters: 180000.0\tbachelors: 179849.74\n",
      "0.97th percentile:\tmasters: 200000.0\tbachelors: 195000.0\n",
      "0.98th percentile:\tmasters: 211100.0\tbachelors: 200000.0\n",
      "0.99th percentile:\tmasters: 250000.0\tbachelors: 250000.0\n",
      "1.0th percentile:\tmasters: 4498900.0\tbachelors: 9999999.0\n"
     ]
    }
   ],
   "source": [
    "#Investigate Percentiles, This is one way to check for outliers\n",
    "for q in np.linspace(.8, 1, num=21):\n",
    "    masters_q =  round(masters_wage_df.quantile(q=q), 2)\n",
    "    bachelors_q =  round(bachelors_wage_df.quantile(q=q), 2)\n",
    "    print('{}th percentile:\\tmasters: {}\\tbachelors: {}'.format(round(q,2), masters_q, bachelors_q))"
   ]
  },
  {
   "cell_type": "code",
   "execution_count": 71,
   "metadata": {},
   "outputs": [
    {
     "name": "stdout",
     "output_type": "stream",
     "text": [
      "Repeated Test with Outliers Removed:\n",
      "Master's: Master's degree\tBachelor's: Bachelor's degree\n",
      "Median Values: \tMaster's: 53539.72 \tBachelor's: AdjustedCompensation    38399.4\n",
      "dtype: float64\n",
      "Mean Values: \tMaster's: 63976.63 \tBachelor's: 53744.35\n",
      "Sample sizes: \tMaster's: 1985 \tBachelor's: 1103\n",
      "Welch's t-test p-value with outliers removed: 4.4874583271514723e-07\n"
     ]
    }
   ],
   "source": [
    "## Up to the 99th percentile, the spread between each looks pretty even.\n",
    "## We likely have some outliers, severely impacting our distribution.\n",
    "print('Repeated Test with Outliers Removed:')\n",
    "print(\"Master's: {}\\tBachelor's: {}\".format(masters, bachelors))\n",
    "outlier_threshold = 500000 ## A threshold of our choosing \n",
    "masters_wage_no_outliers = wage_edu_df[(wage_edu_df[education]==masters) & (wage_edu_df[adjcomp]<=outlier_threshold)][adjcomp]\n",
    "bachelors_wage_no_outliers = wage_edu_df[(wage_edu_df[education]==bachelors) & (wage_edu_df[adjcomp]<=outlier_threshold)][adjcomp]\n",
    "print(\"Median Values: \\tMaster's: {} \\tBachelor's: {}\".format(round(masters_wage_no_outliers.median(),2), round(bachelors_wage_edu_df.median(),2)))\n",
    "print(\"Mean Values: \\tMaster's: {} \\tBachelor's: {}\".format(round(masters_wage_no_outliers.mean(),2), round(bachelors_wage_no_outliers.mean(),2)))\n",
    "print(\"Sample sizes: \\tMaster's: {} \\tBachelor's: {}\".format(len(masters_wage_no_outliers), len(bachelors_wage_no_outliers)))\n",
    "print(\"Welch's t-test p-value with outliers removed:\", fs.p_value_welch_ttest(masters_wage_no_outliers, bachelors_wage_no_outliers))"
   ]
  },
  {
   "cell_type": "code",
   "execution_count": 79,
   "metadata": {},
   "outputs": [
    {
     "data": {
      "text/plain": [
       "<matplotlib.axes._subplots.AxesSubplot at 0x1a28119518>"
      ]
     },
     "execution_count": 79,
     "metadata": {},
     "output_type": "execute_result"
    },
    {
     "data": {
      "image/png": "[encoded data removed]",
      "text/plain": [
       "<Figure size 720x360 with 1 Axes>"
      ]
     },
     "metadata": {
      "needs_background": "light"
     },
     "output_type": "display_data"
    }
   ],
   "source": [
    "plt.figure(figsize=(10,5))\n",
    "sns.set_context(\"poster\")\n",
    "sns.distplot(masters_wage_no_outliers) ## blue\n",
    "sns.distplot(bachelors_wage_no_outliers) ## orange\n"
   ]
  },
  {
   "cell_type": "markdown",
   "metadata": {},
   "source": [
    "## Wages and Education II\n",
    "\n",
    "Now perform a similar statistical test comparing the AdjustedCompensation of those with Bachelor's degrees and those with Doctorates. If you haven't already, be sure to explore the distribution of the AdjustedCompensation feature for any anomalies. "
   ]
  },
  {
   "cell_type": "code",
   "execution_count": 54,
   "metadata": {},
   "outputs": [],
   "source": [
    "doctoral = \"Doctoral degree\" ## relevant feature (categorical var)"
   ]
  },
  {
   "cell_type": "code",
   "execution_count": 55,
   "metadata": {
    "scrolled": false
   },
   "outputs": [
    {
     "data": {
      "text/plain": [
       "22    100000.000\n",
       "32    172144.440\n",
       "34    133000.000\n",
       "61     15000.000\n",
       "72     43049.736\n",
       "Name: AdjustedCompensation, dtype: float64"
      ]
     },
     "execution_count": 55,
     "metadata": {},
     "output_type": "execute_result"
    }
   ],
   "source": [
    "doctoral_wage_df = wage_edu_df[wage_edu_df[education] == doctoral][adjcomp]\n",
    "doctoral_wage_df.head()"
   ]
  },
  {
   "cell_type": "code",
   "execution_count": 70,
   "metadata": {},
   "outputs": [
    {
     "name": "stdout",
     "output_type": "stream",
     "text": [
      "0.8th percentile:\tdoctoral: 135000.0\n",
      "0.81th percentile:\tdoctoral: 140000.0\n",
      "0.82th percentile:\tdoctoral: 140000.0\n",
      "0.83th percentile:\tdoctoral: 146796.17\n",
      "0.84th percentile:\tdoctoral: 150000.0\n",
      "0.85th percentile:\tdoctoral: 150000.0\n",
      "0.86th percentile:\tdoctoral: 155000.0\n",
      "0.87th percentile:\tdoctoral: 160000.0\n",
      "0.88th percentile:\tdoctoral: 160000.0\n",
      "0.89th percentile:\tdoctoral: 166480.0\n",
      "0.9th percentile:\tdoctoral: 172057.78\n",
      "0.91th percentile:\tdoctoral: 175000.0\n",
      "0.92th percentile:\tdoctoral: 181555.2\n",
      "0.93th percentile:\tdoctoral: 191900.0\n",
      "0.94th percentile:\tdoctoral: 200000.0\n",
      "0.95th percentile:\tdoctoral: 200000.0\n",
      "0.96th percentile:\tdoctoral: 220999.61\n",
      "0.97th percentile:\tdoctoral: 240879.14\n",
      "0.98th percentile:\tdoctoral: 277349.78\n",
      "0.99th percentile:\tdoctoral: 336800.0\n",
      "1.0th percentile:\tdoctoral: 28297400000.0\n"
     ]
    }
   ],
   "source": [
    "# Check for outliers\n",
    "for q in np.linspace(.8, 1, num=21):\n",
    "    doctoral_q =  round(doctoral_wage_df.quantile(q=q), 2)\n",
    "    print('{}th percentile:\\tdoctoral: {}'.format(round(q,2), doctoral_q))"
   ]
  },
  {
   "cell_type": "code",
   "execution_count": 80,
   "metadata": {},
   "outputs": [
    {
     "name": "stdout",
     "output_type": "stream",
     "text": [
      "Test with Outliers Removed:\n",
      "Doctoral: Doctoral degree\tBachelor's: Bachelor's degree\n",
      "Median Values: \tDoctoral: 73152.77 \tBachelor's: AdjustedCompensation    38399.4\n",
      "dtype: float64\n",
      "Mean Values: \tMaster's: 86194.98 \tBachelor's: 53744.35\n",
      "Sample sizes: \tMaster's: 964 \tBachelor's: 1103\n",
      "Welch's t-test p-value with outliers removed: 0.0\n"
     ]
    }
   ],
   "source": [
    "## remove outliers and run test\n",
    "print('Test with Outliers Removed:')\n",
    "print(\"Doctoral: {}\\tBachelor's: {}\".format(doctoral, bachelors))\n",
    "outlier_threshold = 500000 ## A threshold of our choosing \n",
    "doctoral_wage_no_outliers = wage_edu_df[(wage_edu_df[education]==doctoral) & (wage_edu_df[adjcomp]<=outlier_threshold)][adjcomp]\n",
    "bachelors_wage_no_outliers = wage_edu_df[(wage_edu_df[education]==bachelors) & (wage_edu_df[adjcomp]<=outlier_threshold)][adjcomp]\n",
    "print(\"Median Values: \\tDoctoral: {} \\tBachelor's: {}\".format(round(doctoral_wage_no_outliers.median(),2), round(bachelors_wage_edu_df.median(),2)))\n",
    "print(\"Mean Values: \\tMaster's: {} \\tBachelor's: {}\".format(round(doctoral_wage_no_outliers.mean(),2), round(bachelors_wage_no_outliers.mean(),2)))\n",
    "print(\"Sample sizes: \\tMaster's: {} \\tBachelor's: {}\".format(len(doctoral_wage_no_outliers), len(bachelors_wage_no_outliers)))\n",
    "print(\"Welch's t-test p-value with outliers removed:\", fs.p_value_welch_ttest(doctoral_wage_no_outliers, bachelors_wage_no_outliers))"
   ]
  },
  {
   "cell_type": "code",
   "execution_count": 81,
   "metadata": {},
   "outputs": [
    {
     "data": {
      "text/plain": [
       "<matplotlib.axes._subplots.AxesSubplot at 0x1a2853ac18>"
      ]
     },
     "execution_count": 81,
     "metadata": {},
     "output_type": "execute_result"
    },
    {
     "data": {
      "image/png": "[encoded data removed]",
      "text/plain": [
       "<Figure size 720x360 with 1 Axes>"
      ]
     },
     "metadata": {
      "needs_background": "light"
     },
     "output_type": "display_data"
    }
   ],
   "source": [
    "plt.figure(figsize=(10,5))\n",
    "sns.set_context(\"poster\")\n",
    "sns.distplot(doctoral_wage_no_outliers) ## blue\n",
    "sns.distplot(bachelors_wage_no_outliers) ## orange"
   ]
  },
  {
   "cell_type": "markdown",
   "metadata": {},
   "source": [
    "## Wages and Education III\n",
    "\n",
    "Remember the multiple comparisons problem; rather than continuing on like this, perform an ANOVA test between the various 'FormalEducation' categories and their relation to 'AdjustedCompensation'."
   ]
  },
  {
   "cell_type": "code",
   "execution_count": 82,
   "metadata": {},
   "outputs": [
    {
     "name": "stdout",
     "output_type": "stream",
     "text": [
      "                          sum_sq      df         F    PR(>F)\n",
      "C(FormalEducation)  6.540294e+17     6.0  0.590714  0.738044\n",
      "Residual            7.999414e+20  4335.0       NaN       NaN\n"
     ]
    }
   ],
   "source": [
    "#Your code here\n",
    "import statsmodels.api as sm\n",
    "from statsmodels.formula.api import ols\n",
    "\n",
    "formula = '{} ~ C({})'.format(adjcomp, education)\n",
    "lm = ols(formula, df).fit() ## uses original dataframe\n",
    "table = sm.stats.anova_lm(lm, typ=2)\n",
    "print(table)"
   ]
  },
  {
   "cell_type": "code",
   "execution_count": 83,
   "metadata": {},
   "outputs": [
    {
     "name": "stdout",
     "output_type": "stream",
     "text": [
      "                          sum_sq      df          F        PR(>F)\n",
      "C(FormalEducation)  5.841881e+11     6.0  29.224224  1.727132e-34\n",
      "Residual            1.439270e+13  4320.0        NaN           NaN\n"
     ]
    }
   ],
   "source": [
    "## Same test with outliers removed (same threshold )\n",
    "temp = df[df[adjcomp]<=outlier_threshold]\n",
    "formula = '{} ~ C({})'.format(adjcomp, education)\n",
    "lm = ols(formula, temp).fit()\n",
    "table = sm.stats.anova_lm(lm, typ=2)\n",
    "print(table)"
   ]
  },
  {
   "cell_type": "markdown",
   "metadata": {},
   "source": [
    "## Additional Resources\n",
    "\n",
    "Here's the original source where the data was taken from:  \n",
    "    [Kaggle Machine Learning & Data Science Survey 2017](https://www.kaggle.com/kaggle/kaggle-survey-2017)"
   ]
  },
  {
   "cell_type": "markdown",
   "metadata": {},
   "source": [
    "## Summary\n",
    "\n",
    "In this lab, you practiced conducting actual hypothesis tests on actual data. From this, you saw how dependent results can be on the initial problem formulation, including preprocessing!"
   ]
  }
 ],
 "metadata": {
  "kernelspec": {
   "display_name": "Python 3",
   "language": "python",
   "name": "python3"
  },
  "language_info": {
   "codemirror_mode": {
    "name": "ipython",
    "version": 3
   },
   "file_extension": ".py",
   "mimetype": "text/x-python",
   "name": "python",
   "nbconvert_exporter": "python",
   "pygments_lexer": "ipython3",
   "version": "3.6.9"
  },
  "toc": {
   "base_numbering": 1,
   "nav_menu": {},
   "number_sections": true,
   "sideBar": true,
   "skip_h1_title": false,
   "title_cell": "Table of Contents",
   "title_sidebar": "Contents",
   "toc_cell": false,
   "toc_position": {},
   "toc_section_display": true,
   "toc_window_display": false
  }
 },
 "nbformat": 4,
 "nbformat_minor": 2
}
